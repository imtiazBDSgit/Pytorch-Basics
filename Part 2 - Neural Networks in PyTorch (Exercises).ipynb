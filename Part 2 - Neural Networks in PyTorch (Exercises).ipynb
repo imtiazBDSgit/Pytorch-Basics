{
 "cells": [
  {
   "cell_type": "markdown",
   "metadata": {},
   "source": [
    "# Neural networks with PyTorch\n",
    "\n",
    "Deep learning networks tend to be massive with dozens or hundreds of layers, that's where the term \"deep\" comes from. You can build one of these deep networks using only weight matrices as we did in the previous notebook, but in general it's very cumbersome and difficult to implement. PyTorch has a nice module `nn` that provides a nice way to efficiently build large neural networks."
   ]
  },
  {
   "cell_type": "code",
   "execution_count": 1,
   "metadata": {},
   "outputs": [],
   "source": [
    "# Import necessary packages\n",
    "\n",
    "%matplotlib inline\n",
    "%config InlineBackend.figure_format = 'retina'\n",
    "\n",
    "import numpy as np\n",
    "import torch\n",
    "\n",
    "import helper\n",
    "\n",
    "import matplotlib.pyplot as plt"
   ]
  },
  {
   "cell_type": "markdown",
   "metadata": {},
   "source": [
    "\n",
    "Now we're going to build a larger network that can solve a (formerly) difficult problem, identifying text in an image. Here we'll use the MNIST dataset which consists of greyscale handwritten digits. Each image is 28x28 pixels, you can see a sample below\n",
    "\n",
    "<img src='assets/mnist.png'>\n",
    "\n",
    "Our goal is to build a neural network that can take one of these images and predict the digit in the image.\n",
    "\n",
    "First up, we need to get our dataset. This is provided through the `torchvision` package. The code below will download the MNIST dataset, then create training and test datasets for us. Don't worry too much about the details here, you'll learn more about this later."
   ]
  },
  {
   "cell_type": "code",
   "execution_count": 3,
   "metadata": {},
   "outputs": [
    {
     "name": "stdout",
     "output_type": "stream",
     "text": [
      "Downloading http://yann.lecun.com/exdb/mnist/train-images-idx3-ubyte.gz\n",
      "Downloading http://yann.lecun.com/exdb/mnist/train-labels-idx1-ubyte.gz\n",
      "Downloading http://yann.lecun.com/exdb/mnist/t10k-images-idx3-ubyte.gz\n",
      "Downloading http://yann.lecun.com/exdb/mnist/t10k-labels-idx1-ubyte.gz\n",
      "Processing...\n",
      "Done!\n"
     ]
    }
   ],
   "source": [
    "### Run this cell\n",
    "\n",
    "from torchvision import datasets, transforms\n",
    "\n",
    "# Define a transform to normalize the data\n",
    "transform = transforms.Compose([transforms.ToTensor(),\n",
    "                              transforms.Normalize((0.5, 0.5, 0.5), (0.5, 0.5, 0.5)),\n",
    "                              ])\n",
    "\n",
    "# Download and load the training data\n",
    "trainset = datasets.MNIST('MNIST_data/', download=True, train=True, transform=transform)\n",
    "trainloader = torch.utils.data.DataLoader(trainset, batch_size=64, shuffle=True)"
   ]
  },
  {
   "cell_type": "markdown",
   "metadata": {},
   "source": [
    "We have the training data loaded into `trainloader` and we make that an iterator with `iter(trainloader)`. Later, we'll use this to loop through the dataset for training, like\n",
    "\n",
    "```python\n",
    "for image, label in trainloader:\n",
    "    ## do things with images and labels\n",
    "```\n",
    "\n",
    "You'll notice I created the `trainloader` with a batch size of 64, and `shuffle=True`. The batch size is the number of images we get in one iteration from the data loader and pass through our network, often called a *batch*. And `shuffle=True` tells it to shuffle the dataset every time we start going through the data loader again. But here I'm just grabbing the first batch so we can check out the data. We can see below that `images` is just a tensor with size `(64, 1, 28, 28)`. So, 64 images per batch, 1 color channel, and 28x28 images."
   ]
  },
  {
   "cell_type": "code",
   "execution_count": 4,
   "metadata": {},
   "outputs": [
    {
     "name": "stdout",
     "output_type": "stream",
     "text": [
      "<class 'torch.Tensor'>\n",
      "torch.Size([64, 1, 28, 28])\n",
      "torch.Size([64])\n"
     ]
    }
   ],
   "source": [
    "dataiter = iter(trainloader)\n",
    "images, labels = dataiter.next()\n",
    "print(type(images))\n",
    "print(images.shape)\n",
    "print(labels.shape)"
   ]
  },
  {
   "cell_type": "code",
   "execution_count": 5,
   "metadata": {},
   "outputs": [
    {
     "data": {
      "text/plain": [
       "torch.Size([1, 28, 28])"
      ]
     },
     "execution_count": 5,
     "metadata": {},
     "output_type": "execute_result"
    }
   ],
   "source": [
    "images[1].shape"
   ]
  },
  {
   "cell_type": "markdown",
   "metadata": {},
   "source": [
    "This is what one of the images looks like. "
   ]
  },
  {
   "cell_type": "code",
   "execution_count": 6,
   "metadata": {},
   "outputs": [
    {
     "data": {
      "image/png": "[encoded data removed]",
      "text/plain": [
       "<matplotlib.figure.Figure at 0x1db36dd5ac8>"
      ]
     },
     "metadata": {
      "image/png": {
       "height": 250,
       "width": 253
      }
     },
     "output_type": "display_data"
    }
   ],
   "source": [
    "plt.imshow(images[1].numpy().squeeze(), cmap='Greys_r');"
   ]
  },
  {
   "cell_type": "markdown",
   "metadata": {},
   "source": [
    "First, let's try to build a simple network for this dataset using weight matrices and matrix multiplications. Then, we'll see how to do it using PyTorch's `nn` module which provides a much more convenient and powerful method for defining network architectures.\n",
    "\n",
    "The networks you've seen so far are called *fully-connected* or *dense* networks. Each unit in one layer is connected to each unit in the next layer. In fully-connected networks, the input to each layer must be a one-dimensional vector (which can be stacked into a 2D tensor as a batch of multiple examples). However, our images are 28x28 2D tensors, so we need to convert them into 1D vectors. Thinking about sizes, we need to convert the batch of images with shape `(64, 1, 28, 28)` to a have a shape of `(64, 784)`, 784 is 28 times 28. This is typically called *flattening*, we flattened the 2D images into 1D vectors.\n",
    "\n",
    "Previously you built a network with one output unit. Here we need 10 output units, one for each digit. We want our network to predict the digit shown in an image, so what we'll do is calculate probabilities that the image is of any one digit or class. This ends up being a discrete probability distribution over the classes (digits) that tells us the most likely class for the image. That means we need 10 output units for the 10 classes (digits). We'll see how to convert the network output into a probability distribution next.\n",
    "\n",
    "> **Exercise:** Flatten the batch of images `images`. Then build a multi-layer network with 784 input units, 256 hidden units, and 10 output units using random tensors for the weights and biases. For now, use a sigmoid activation for the hidden layer. Leave the output layer without an activation, we'll add one that gives us a probability distribution next."
   ]
  },
  {
   "cell_type": "code",
   "execution_count": 10,
   "metadata": {},
   "outputs": [
    {
     "data": {
      "text/plain": [
       "tensor([[ -1.5352,  17.8342,  22.2822,  18.1819,  -0.7208, -30.3186,   0.2590,\n",
       "          -8.9854,   9.5401,   5.2686],\n",
       "        [  5.5499,  -4.4865,  32.4327,   4.8366,   0.9980,  -8.9245,  -0.7793,\n",
       "         -17.8878,  -3.9402,   7.5279],\n",
       "        [  3.0918,  11.3452,  22.2107,  16.0264,   2.2546, -14.0921,  -6.0509,\n",
       "         -12.9114,   8.9445,   3.1800],\n",
       "        [  5.4044,   1.8406,  17.7758,  19.3733,  14.6090, -13.0767,  -3.2634,\n",
       "           0.0760,   1.8670,  -2.7193],\n",
       "        [ -3.6375,   4.7468,  30.3705,  19.8019,   6.3553, -20.2540, -11.6607,\n",
       "         -15.4055,   5.2450,   4.4520],\n",
       "        [  7.1774,   6.4832,  31.8264,  16.1652,   1.0118, -13.6547, -11.1506,\n",
       "          -9.1425,   3.4401,  -1.0762],\n",
       "        [ -0.1410,  -3.7819,  24.1185,   9.2686,  -6.8327, -14.8768,  -3.9799,\n",
       "         -14.7282,  -6.1578,   7.7117],\n",
       "        [ -7.7930,   2.8657,  32.3575,  25.5340,   0.2934, -31.7356,  -5.7519,\n",
       "          -4.6373,   5.8555,  15.6138],\n",
       "        [ -2.2710,  10.0917,  27.6677,  10.5136,   7.0212, -14.9267, -10.8234,\n",
       "          -3.8825,   4.6309,   9.2663],\n",
       "        [  4.9291,   9.4900,  18.1853,  16.8150,  -0.0343, -18.0548,  -3.2675,\n",
       "          -7.1332,   7.1587,   1.0059],\n",
       "        [  2.6797,  -2.6993,  16.5470,  19.3010,   6.2978, -10.9364,  -8.5127,\n",
       "         -13.9269,  -0.6015,  15.0879],\n",
       "        [  2.8069,   9.3284,  17.7026,  20.5546,   1.8877, -12.5201,  -9.7115,\n",
       "         -12.7974,   1.5463,   4.5154],\n",
       "        [  8.1150,   7.0003,  25.8575,  19.1432,   7.9315, -28.7112, -13.3324,\n",
       "         -11.1262,  -1.5300,   5.5319],\n",
       "        [  7.3112,   3.9798,  33.2035,  19.6028,   5.2722,  -1.8286,  -9.2874,\n",
       "          -2.5035,  -5.8473,   8.3960],\n",
       "        [ -5.4285,   4.6995,  25.4255,  14.7098,   6.3987,  -8.5935,  -8.7694,\n",
       "          -5.3229,   7.9435,   0.2775],\n",
       "        [  8.8763,  -0.7833,  26.0214,  14.4927,  12.1950,  -6.0298, -11.8191,\n",
       "          -9.7491,  -4.5152,  14.6668],\n",
       "        [  2.2403,   2.8838,  21.6675,  17.1372,   2.5433, -12.7667,  -4.6830,\n",
       "         -11.9020,  -1.7095,   7.3503],\n",
       "        [  3.6862,  -2.5461,  18.7679,   7.0371,  12.5949, -17.2226,  -8.3782,\n",
       "         -11.2986,   5.9120,   6.4403],\n",
       "        [  7.9642,   3.0236,  23.5422,   7.8687,   2.9296, -20.5751,  -8.7281,\n",
       "         -10.8496,   3.1846,   5.0260],\n",
       "        [  5.6417,   3.8185,  28.2003,  10.8160,   5.2229, -21.2008,  -2.5253,\n",
       "          -9.0813,   2.6679,  -1.1183],\n",
       "        [ -1.5270,   5.4821,  30.2543,  10.5722,  -6.3025, -15.4116,  -4.1335,\n",
       "          -3.9146,   6.0773,   5.1602],\n",
       "        [ -0.6638,  -4.3146,  21.6639,  10.4992,   4.6202, -18.4851, -17.6019,\n",
       "         -10.6629,   7.8940,  14.2303],\n",
       "        [  9.0678,   6.7854,  28.1813,   6.0187,  -6.1525, -21.7811,  -9.9610,\n",
       "         -15.0836,   4.5855,   7.9708],\n",
       "        [ -0.7173,   6.8196,  31.5207,  18.6472,   9.6078, -18.6261,  -8.2760,\n",
       "          -8.3555,   4.9283,   3.3981],\n",
       "        [  9.5380,   5.2210,  22.6140,  12.1020,  -0.8031, -22.5772, -10.6551,\n",
       "         -17.1368,   2.1611,   2.4470],\n",
       "        [ 10.2171,   4.8066,  19.6932,  13.2191,   6.2373, -27.1622, -13.4743,\n",
       "          -0.7802,   7.5251,   5.4562],\n",
       "        [  4.7496,  -0.7377,  15.7958,  14.1699,   6.4004, -16.6855,  -6.5120,\n",
       "         -12.2711,   6.9141,   8.5229],\n",
       "        [  1.4470,   1.3180,  28.4004,   9.2264,  10.3657,  -0.3824,  -6.0155,\n",
       "         -15.4573,  -3.4029,   1.3746],\n",
       "        [  3.4985,   0.1895,  23.5861,  15.7297,   1.9715, -25.4897,  -8.6096,\n",
       "          -5.2566,  13.6599,  14.7979],\n",
       "        [  5.9379,   3.4537,  24.3031,  13.4940,   9.0883, -21.4185,  -4.9779,\n",
       "         -14.3615,   4.2141,   4.7824],\n",
       "        [ 12.5263,   2.7400,  18.3754,  14.2577,   2.3615, -11.6394,  -2.9126,\n",
       "         -13.6469,   3.4311,   5.4346],\n",
       "        [ -6.7856,  -9.0098,  26.3986,   2.9417,   1.6782,  -3.1805,  -8.1562,\n",
       "         -11.2093,  -3.7570,  -3.2300],\n",
       "        [  7.1462,  12.2369,  34.0078,  26.8361,   7.7017,  -1.7982,  -8.3730,\n",
       "         -12.8228,  -1.7364,   2.6486],\n",
       "        [  7.1632,  -2.9198,  19.8004,  12.5110,   5.4305, -17.6973, -11.1577,\n",
       "          -7.2846,   8.5575,  12.3037],\n",
       "        [  1.7900,   4.0263,  29.3431,   1.7879,   4.5798,  -8.8564,  -6.9321,\n",
       "         -14.5174,   4.7555,   8.6316],\n",
       "        [ 13.9019,   7.8841,  18.8878,  19.4034,   7.8837, -12.6229,  -3.0882,\n",
       "          -4.8625,   3.2856,   3.5993],\n",
       "        [ 12.8844,  -1.7366,  29.3971,   7.7156,   3.8884, -19.1999,  -9.9045,\n",
       "         -15.6350,  -0.8020,   9.4738],\n",
       "        [  7.9336,   7.5704,  21.3823,   8.7926,   8.9112, -12.2580,   2.3608,\n",
       "         -10.9457,   2.1849,  -2.9818],\n",
       "        [ -0.4754,   6.1715,  16.8968,  22.1507,   9.0032, -11.9948,   6.3198,\n",
       "          -4.2767,   7.4709,  -0.6139],\n",
       "        [ -0.6353,   5.9363,  21.3056,  20.7506,  11.1053, -19.8372,  -8.9334,\n",
       "          -8.3459,   8.4498,   3.5919],\n",
       "        [  8.8340,  -0.1562,  26.1558,  18.9119,  -1.6542, -21.5975, -11.1859,\n",
       "         -14.9644,  11.2064,   7.8533],\n",
       "        [  7.6618,  12.4162,  22.8780,  15.5905,  -4.3439, -27.8669,  -4.0123,\n",
       "         -10.1431,   2.2291,   0.6710],\n",
       "        [  7.4992,  15.0722,  24.6490,  21.2255,   6.1846,  -7.3460,  -0.3272,\n",
       "         -10.2507,   3.7952,  -5.5602],\n",
       "        [  8.0438,   0.8981,  30.9690,  15.8986,  11.6102, -18.2534,  -6.7177,\n",
       "         -11.3152,   4.5252,   4.5002],\n",
       "        [  4.5152,   1.3554,  27.9006,  12.6352,   7.9699, -11.8138,  -7.3765,\n",
       "         -15.0213,   9.6180,   2.2600],\n",
       "        [  3.0816,   2.2525,  20.1408,   9.4429,   7.4127, -14.7152, -12.6008,\n",
       "         -20.2994,  -4.1445,   5.0682],\n",
       "        [  5.1750,   2.8253,  29.0559,  13.3099,   7.2236, -17.6385,  -8.5901,\n",
       "         -20.0352,   7.6215,   2.6891],\n",
       "        [ -1.5356,   3.8015,  24.8241,  10.3293,   9.9113,  -5.5847,  -6.3955,\n",
       "         -16.7524,   4.0300,  -1.1478],\n",
       "        [ 11.3739,  -0.1097,  23.7043,  17.4076,   1.3036, -27.1024,  -5.0974,\n",
       "          -1.5420,   3.1102,  -4.1127],\n",
       "        [  0.9862,   2.4375,  30.3415,  16.5189,   5.7351,  -9.9511, -10.3814,\n",
       "         -13.3109, -10.3257,   3.8447],\n",
       "        [  3.2697,   9.6838,  24.1960,  16.7632,   3.7582, -26.4785,  -6.0232,\n",
       "          -8.9860,   6.1045,  16.0216],\n",
       "        [  2.5097,   3.9795,  25.0703,  11.0677,   6.5476, -11.0216, -14.1952,\n",
       "         -18.3166,   8.3511,  12.8921],\n",
       "        [ 14.4846,  -0.5908,  26.5379,  -0.3554,  -2.1160, -12.0922,  -8.4002,\n",
       "          -8.3955,  -0.6085,  14.1072],\n",
       "        [  8.7483,   6.9429,  26.3763,  16.4188,   1.3830, -17.6396, -16.8209,\n",
       "         -14.6224,   6.2858,   6.8657],\n",
       "        [  0.7156,   0.5444,  21.8399,  15.1575,   4.7451, -19.1038,  -8.5599,\n",
       "         -12.1232,   9.6764,  -0.1163],\n",
       "        [  4.6600,  -0.9860,  27.4210,   4.2931,  15.5954, -11.7252,  -9.0070,\n",
       "         -16.4745,  10.1300,  13.7451],\n",
       "        [  0.2512,  -2.8796,  30.9169,   3.6676,   4.8746,  -8.5796,  -8.9614,\n",
       "         -17.6754,   5.4833,  15.1760],\n",
       "        [  6.2121,  13.1308,  30.9993,  18.8367,   8.0017, -19.8875,  -7.9202,\n",
       "          -9.2481,   5.7888,   6.9789],\n",
       "        [  0.3568,   8.8373,  19.6893,   8.1195,   4.3093, -17.3367, -15.9113,\n",
       "         -18.3500,   2.1358,  10.2714],\n",
       "        [  5.2522,  10.2814,  27.0147,  11.2196,   0.5585,  -8.8181,  -7.2312,\n",
       "         -14.2753,  -1.3183,   2.9696],\n",
       "        [  4.3038,   0.1643,  29.2253,  20.3514,  18.0988,  -9.3342,  -9.5174,\n",
       "         -15.0701,   7.5047,   9.3885],\n",
       "        [  2.5449,   1.6922,  21.5728,  19.9574,  15.9012, -19.4713, -18.0394,\n",
       "          -3.6103,   0.8043,   6.5378],\n",
       "        [  2.8317,  -7.7249,  33.4905,   4.4078,  12.0457,  -8.6179, -10.9512,\n",
       "         -13.9288,  -3.5490,  16.5993],\n",
       "        [ -2.1537,  10.6717,  27.5947,  10.9850,   3.6441, -15.5054,  -3.9364,\n",
       "          -7.2356,   5.4631,  13.2417]])"
      ]
     },
     "execution_count": 10,
     "metadata": {},
     "output_type": "execute_result"
    }
   ],
   "source": [
    "## Your solution\n",
    "def activation(x):\n",
    "    return 1/(1+torch.exp(-x))\n",
    "flatten_images=images.view(64,-1)\n",
    "W1=torch.randn((784,256))\n",
    "b1=torch.randn(256)\n",
    "W2=torch.randn((256,10))\n",
    "b2=torch.randn(10)\n",
    "h1=activation(torch.mm(flatten_images,W1)+b1)\n",
    "out = torch.mm(h1,W2)+b2# output of your network, should have shape (64,10)\n",
    "out"
   ]
  },
  {
   "cell_type": "markdown",
   "metadata": {},
   "source": [
    "Now we have 10 outputs for our network. We want to pass in an image to our network and get out a probability distribution over the classes that tells us the likely class(es) the image belongs to. Something that looks like this:\n",
    "<img src='assets/image_distribution.png' width=500px>\n",
    "\n",
    "Here we see that the probability for each class is roughly the same. This is representing an untrained network, it hasn't seen any data yet so it just returns a uniform distribution with equal probabilities for each class.\n",
    "\n",
    "To calculate this probability distribution, we often use the [**softmax** function](https://en.wikipedia.org/wiki/Softmax_function). Mathematically this looks like\n",
    "\n",
    "$$\n",
    "\\Large \\sigma(x_i) = \\cfrac{e^{x_i}}{\\sum_k^K{e^{x_k}}}\n",
    "$$\n",
    "\n",
    "What this does is squish each input $x_i$ between 0 and 1 and normalizes the values to give you a proper probability distribution where the probabilites sum up to one.\n",
    "\n",
    "> **Exercise:** Implement a function `softmax` that performs the softmax calculation and returns probability distributions for each example in the batch. Note that you'll need to pay attention to the shapes when doing this. If you have a tensor `a` with shape `(64, 10)` and a tensor `b` with shape `(64,)`, doing `a/b` will give you an error because PyTorch will try to do the division across the columns (called broadcasting) but you'll get a size mismatch. The way to think about this is for each of the 64 examples, you only want to divide by one value, the sum in the denominator. So you need `b` to have a shape of `(64, 1)`. This way PyTorch will divide the 10 values in each row of `a` by the one value in each row of `b`. Pay attention to how you take the sum as well. You'll need to define the `dim` keyword in `torch.sum`. Setting `dim=0` takes the sum across the rows while `dim=1` takes the sum across the columns."
   ]
  },
  {
   "cell_type": "code",
   "execution_count": 15,
   "metadata": {},
   "outputs": [
    {
     "data": {
      "text/plain": [
       "torch.Size([64, 1])"
      ]
     },
     "execution_count": 15,
     "metadata": {},
     "output_type": "execute_result"
    }
   ],
   "source": [
    "torch.sum(torch.exp(out),dim=1).view(64,1).shape"
   ]
  },
  {
   "cell_type": "code",
   "execution_count": 17,
   "metadata": {},
   "outputs": [
    {
     "name": "stdout",
     "output_type": "stream",
     "text": [
      "torch.Size([64, 10])\n",
      "tensor([1.0000, 1.0000, 1.0000, 1.0000, 1.0000, 1.0000, 1.0000, 1.0000, 1.0000,\n",
      "        1.0000, 1.0000, 1.0000, 1.0000, 1.0000, 1.0000, 1.0000, 1.0000, 1.0000,\n",
      "        1.0000, 1.0000, 1.0000, 1.0000, 1.0000, 1.0000, 1.0000, 1.0000, 1.0000,\n",
      "        1.0000, 1.0000, 1.0000, 1.0000, 1.0000, 1.0000, 1.0000, 1.0000, 1.0000,\n",
      "        1.0000, 1.0000, 1.0000, 1.0000, 1.0000, 1.0000, 1.0000, 1.0000, 1.0000,\n",
      "        1.0000, 1.0000, 1.0000, 1.0000, 1.0000, 1.0000, 1.0000, 1.0000, 1.0000,\n",
      "        1.0000, 1.0000, 1.0000, 1.0000, 1.0000, 1.0000, 1.0000, 1.0000, 1.0000,\n",
      "        1.0000])\n"
     ]
    }
   ],
   "source": [
    "def softmax(x):\n",
    "    return torch.exp(x)/torch.sum(torch.exp(x),dim=1).view(64,1)\n",
    "    ## TODO: Implement the softmax function here\n",
    "\n",
    "# Here, out should be the output of the network in the previous excercise with shape (64,10)\n",
    "probabilities = softmax(out)\n",
    "\n",
    "# Does it have the right shape? Should be (64, 10)\n",
    "print(probabilities.shape)\n",
    "# Does it sum to 1?\n",
    "print(probabilities.sum(dim=1))"
   ]
  },
  {
   "cell_type": "markdown",
   "metadata": {},
   "source": [
    "## Building networks with PyTorch\n",
    "\n",
    "PyTorch provides a module `nn` that makes building networks much simpler. Here I'll show you how to build the same one as above with 784 inputs, 256 hidden units, 10 output units and a softmax output."
   ]
  },
  {
   "cell_type": "code",
   "execution_count": 19,
   "metadata": {},
   "outputs": [],
   "source": [
    "from torch import nn"
   ]
  },
  {
   "cell_type": "code",
   "execution_count": 20,
   "metadata": {},
   "outputs": [],
   "source": [
    "class Network(nn.Module):\n",
    "    def __init__(self):\n",
    "        super().__init__()\n",
    "        \n",
    "        # Inputs to hidden layer linear transformation\n",
    "        self.hidden = nn.Linear(784, 256)\n",
    "        # Output layer, 10 units - one for each digit\n",
    "        self.output = nn.Linear(256, 10)\n",
    "        \n",
    "        # Define sigmoid activation and softmax output \n",
    "        self.sigmoid = nn.Sigmoid()\n",
    "        self.softmax = nn.Softmax(dim=1)\n",
    "        \n",
    "    def forward(self, x):\n",
    "        # Pass the input tensor through each of our operations\n",
    "        x = self.hidden(x)\n",
    "        x = self.sigmoid(x)\n",
    "        x = self.output(x)\n",
    "        x = self.softmax(x)\n",
    "        \n",
    "        return x"
   ]
  },
  {
   "cell_type": "markdown",
   "metadata": {},
   "source": [
    "Let's go through this bit by bit.\n",
    "\n",
    "```python\n",
    "class Network(nn.Module):\n",
    "```\n",
    "\n",
    "Here we're inheriting from `nn.Module`. Combined with `super().__init__()` this creates a class that tracks the architecture and provides a lot of useful methods and attributes. It is mandatory to inherit from `nn.Module` when you're creating a class for your network. The name of the class itself can be anything.\n",
    "\n",
    "```python\n",
    "self.hidden = nn.Linear(784, 256)\n",
    "```\n",
    "\n",
    "This line creates a module for a linear transformation, $x\\mathbf{W} + b$, with 784 inputs and 256 outputs and assigns it to `self.hidden`. The module automatically creates the weight and bias tensors which we'll use in the `forward` method. You can access the weight and bias tensors once the network once it's create at `net.hidden.weight` and `net.hidden.bias`.\n",
    "\n",
    "```python\n",
    "self.output = nn.Linear(256, 10)\n",
    "```\n",
    "\n",
    "Similarly, this creates another linear transformation with 256 inputs and 10 outputs.\n",
    "\n",
    "```python\n",
    "self.sigmoid = nn.Sigmoid()\n",
    "self.softmax = nn.Softmax(dim=1)\n",
    "```\n",
    "\n",
    "Here I defined operations for the sigmoid activation and softmax output. Setting `dim=1` in `nn.Softmax(dim=1)` calculates softmax across the columns.\n",
    "\n",
    "```python\n",
    "def forward(self, x):\n",
    "```\n",
    "\n",
    "PyTorch networks created with `nn.Module` must have a `forward` method defined. It takes in a tensor `x` and passes it through the operations you defined in the `__init__` method.\n",
    "\n",
    "```python\n",
    "x = self.hidden(x)\n",
    "x = self.sigmoid(x)\n",
    "x = self.output(x)\n",
    "x = self.softmax(x)\n",
    "```\n",
    "\n",
    "Here the input tensor `x` is passed through each operation a reassigned to `x`. We can see that the input tensor goes through the hidden layer, then a sigmoid function, then the output layer, and finally the softmax function. It doesn't matter what you name the variables here, as long as the inputs and outputs of the operations match the network architecture you want to build. The order in which you define things in the `__init__` method doesn't matter, but you'll need to sequence the operations correctly in the `forward` method.\n",
    "\n",
    "Now we can create a `Network` object."
   ]
  },
  {
   "cell_type": "code",
   "execution_count": null,
   "metadata": {},
   "outputs": [],
   "source": [
    "# Create the network and look at it's text representation\n",
    "model = Network()\n",
    "model"
   ]
  },
  {
   "cell_type": "markdown",
   "metadata": {},
   "source": [
    "You can define the network somewhat more concisely and clearly using the `torch.nn.functional` module. This is the most common way you'll see networks defined as many operations are simple element-wise functions. We normally import this module as `F`, `import torch.nn.functional as F`."
   ]
  },
  {
   "cell_type": "code",
   "execution_count": null,
   "metadata": {},
   "outputs": [],
   "source": [
    "import torch.nn.functional as F\n",
    "\n",
    "class Network(nn.Module):\n",
    "    def __init__(self):\n",
    "        super().__init__()\n",
    "        # Inputs to hidden layer linear transformation\n",
    "        self.hidden = nn.Linear(784, 256)\n",
    "        # Output layer, 10 units - one for each digit\n",
    "        self.output = nn.Linear(256, 10)\n",
    "        \n",
    "    def forward(self, x):\n",
    "        # Hidden layer with sigmoid activation\n",
    "        x = F.sigmoid(self.hidden(x))\n",
    "        # Output layer with softmax activation\n",
    "        x = F.softmax(self.output(x), dim=1)\n",
    "        \n",
    "        return x"
   ]
  },
  {
   "cell_type": "markdown",
   "metadata": {},
   "source": [
    "### Activation functions\n",
    "\n",
    "So far we've only been looking at the softmax activation, but in general any function can be used as an activation function. The only requirement is that for a network to approximate a non-linear function, the activation functions must be non-linear. Here are a few more examples of common activation functions: Tanh (hyperbolic tangent), and ReLU (rectified linear unit).\n",
    "\n",
    "<img src=\"assets/activation.png\" width=700px>\n",
    "\n",
    "In practice, the ReLU function is used almost exclusively as the activation function for hidden layers."
   ]
  },
  {
   "cell_type": "markdown",
   "metadata": {},
   "source": [
    "### Your Turn to Build a Network\n",
    "\n",
    "<img src=\"assets/mlp_mnist.png\" width=600px>\n",
    "\n",
    "> **Exercise:** Create a network with 784 input units, a hidden layer with 128 units and a ReLU activation, then a hidden layer with 64 units and a ReLU activation, and finally an output layer with a softmax activation as shown above. You can use a ReLU activation with the `nn.ReLU` module or `F.relu` function."
   ]
  },
  {
   "cell_type": "code",
   "execution_count": 28,
   "metadata": {
    "scrolled": true
   },
   "outputs": [
    {
     "data": {
      "text/plain": [
       "Network(\n",
       "  (fc1): Linear(in_features=784, out_features=128, bias=True)\n",
       "  (fc2): Linear(in_features=128, out_features=64, bias=True)\n",
       "  (fc3): Linear(in_features=64, out_features=10, bias=True)\n",
       ")"
      ]
     },
     "execution_count": 28,
     "metadata": {},
     "output_type": "execute_result"
    }
   ],
   "source": [
    "## Your solution here\n",
    "import torch.nn.functional as F\n",
    "class Network(nn.Module):\n",
    "    def __init__(self):\n",
    "        super().__init__()\n",
    "        self.fc1=nn.Linear(784,128)\n",
    "        self.fc2=nn.Linear(128,64)\n",
    "        self.fc3=nn.Linear(64,10)\n",
    "    def forward(self,x):\n",
    "        x=F.relu(self.fc1(x))\n",
    "        x=F.relu(self.fc2(x))\n",
    "        x=F.softmax(self.fc3(x),dim=1)\n",
    "        return x\n",
    "    \n",
    "model = Network()\n",
    "model"
   ]
  },
  {
   "cell_type": "markdown",
   "metadata": {},
   "source": [
    "### Initializing weights and biases\n",
    "\n",
    "The weights and such are automatically initialized for you, but it's possible to customize how they are initialized. The weights and biases are tensors attached to the layer you defined, you can get them with `model.fc1.weight` for instance."
   ]
  },
  {
   "cell_type": "code",
   "execution_count": 29,
   "metadata": {},
   "outputs": [
    {
     "name": "stdout",
     "output_type": "stream",
     "text": [
      "Parameter containing:\n",
      "tensor([[-0.0010,  0.0067,  0.0298,  ..., -0.0271,  0.0326,  0.0175],\n",
      "        [ 0.0272,  0.0202,  0.0225,  ..., -0.0251, -0.0303, -0.0084],\n",
      "        [-0.0014, -0.0353,  0.0022,  ...,  0.0173, -0.0081,  0.0002],\n",
      "        ...,\n",
      "        [ 0.0070,  0.0102,  0.0043,  ...,  0.0321, -0.0199, -0.0259],\n",
      "        [-0.0193, -0.0109,  0.0260,  ...,  0.0111, -0.0041,  0.0348],\n",
      "        [-0.0092,  0.0119,  0.0024,  ...,  0.0125,  0.0092,  0.0337]],\n",
      "       requires_grad=True)\n",
      "Parameter containing:\n",
      "tensor([ 0.0199,  0.0013,  0.0345, -0.0074, -0.0022, -0.0113,  0.0262, -0.0232,\n",
      "        -0.0342,  0.0329, -0.0281, -0.0096, -0.0147, -0.0330, -0.0351,  0.0081,\n",
      "        -0.0298,  0.0251, -0.0032, -0.0158, -0.0182, -0.0091, -0.0296, -0.0071,\n",
      "         0.0293,  0.0157, -0.0125, -0.0059, -0.0255, -0.0063,  0.0152, -0.0225,\n",
      "        -0.0256, -0.0281,  0.0098,  0.0167,  0.0108,  0.0046,  0.0040,  0.0000,\n",
      "         0.0196,  0.0339, -0.0211, -0.0338,  0.0012,  0.0225, -0.0024, -0.0217,\n",
      "        -0.0154,  0.0308,  0.0116,  0.0229,  0.0065, -0.0160,  0.0177, -0.0128,\n",
      "        -0.0287,  0.0194, -0.0002, -0.0022, -0.0080,  0.0115, -0.0177,  0.0258,\n",
      "        -0.0091, -0.0156, -0.0277, -0.0157,  0.0185, -0.0034,  0.0255,  0.0165,\n",
      "        -0.0015,  0.0266,  0.0302,  0.0195, -0.0178, -0.0268,  0.0332,  0.0103,\n",
      "         0.0065,  0.0100,  0.0160,  0.0183,  0.0266, -0.0174, -0.0173, -0.0074,\n",
      "         0.0324,  0.0261,  0.0354,  0.0309,  0.0038, -0.0306,  0.0173, -0.0354,\n",
      "         0.0336,  0.0147,  0.0356,  0.0041, -0.0289,  0.0013, -0.0270, -0.0136,\n",
      "        -0.0172,  0.0292, -0.0194, -0.0273,  0.0235,  0.0290,  0.0275,  0.0254,\n",
      "        -0.0026, -0.0048, -0.0340,  0.0349, -0.0214,  0.0209,  0.0069, -0.0329,\n",
      "         0.0277,  0.0195,  0.0261, -0.0005, -0.0335, -0.0116, -0.0308,  0.0195],\n",
      "       requires_grad=True)\n"
     ]
    }
   ],
   "source": [
    "print(model.fc1.weight)\n",
    "print(model.fc1.bias)"
   ]
  },
  {
   "cell_type": "markdown",
   "metadata": {},
   "source": [
    "For custom initialization, we want to modify these tensors in place. These are actually autograd *Variables*, so we need to get back the actual tensors with `model.fc1.weight.data`. Once we have the tensors, we can fill them with zeros (for biases) or random normal values."
   ]
  },
  {
   "cell_type": "code",
   "execution_count": 30,
   "metadata": {},
   "outputs": [
    {
     "data": {
      "text/plain": [
       "tensor([0., 0., 0., 0., 0., 0., 0., 0., 0., 0., 0., 0., 0., 0., 0., 0., 0., 0.,\n",
       "        0., 0., 0., 0., 0., 0., 0., 0., 0., 0., 0., 0., 0., 0., 0., 0., 0., 0.,\n",
       "        0., 0., 0., 0., 0., 0., 0., 0., 0., 0., 0., 0., 0., 0., 0., 0., 0., 0.,\n",
       "        0., 0., 0., 0., 0., 0., 0., 0., 0., 0., 0., 0., 0., 0., 0., 0., 0., 0.,\n",
       "        0., 0., 0., 0., 0., 0., 0., 0., 0., 0., 0., 0., 0., 0., 0., 0., 0., 0.,\n",
       "        0., 0., 0., 0., 0., 0., 0., 0., 0., 0., 0., 0., 0., 0., 0., 0., 0., 0.,\n",
       "        0., 0., 0., 0., 0., 0., 0., 0., 0., 0., 0., 0., 0., 0., 0., 0., 0., 0.,\n",
       "        0., 0.])"
      ]
     },
     "execution_count": 30,
     "metadata": {},
     "output_type": "execute_result"
    }
   ],
   "source": [
    "# Set biases to all zeros\n",
    "model.fc1.bias.data.fill_(0)"
   ]
  },
  {
   "cell_type": "code",
   "execution_count": 31,
   "metadata": {},
   "outputs": [
    {
     "data": {
      "text/plain": [
       "tensor([[-0.0008, -0.0041, -0.0079,  ...,  0.0040, -0.0074,  0.0006],\n",
       "        [-0.0006,  0.0046,  0.0054,  ...,  0.0074, -0.0066,  0.0120],\n",
       "        [-0.0110, -0.0273,  0.0053,  ..., -0.0049, -0.0156,  0.0108],\n",
       "        ...,\n",
       "        [-0.0083,  0.0001, -0.0150,  ...,  0.0055, -0.0054, -0.0016],\n",
       "        [-0.0076,  0.0121, -0.0076,  ..., -0.0126,  0.0038, -0.0011],\n",
       "        [ 0.0058, -0.0119, -0.0046,  ..., -0.0090,  0.0158,  0.0001]])"
      ]
     },
     "execution_count": 31,
     "metadata": {},
     "output_type": "execute_result"
    }
   ],
   "source": [
    "# sample from random normal with standard dev = 0.01\n",
    "model.fc1.weight.data.normal_(std=0.01)"
   ]
  },
  {
   "cell_type": "markdown",
   "metadata": {},
   "source": [
    "### Forward pass\n",
    "\n",
    "Now that we have a network, let's see what happens when we pass in an image."
   ]
  },
  {
   "cell_type": "code",
   "execution_count": 36,
   "metadata": {},
   "outputs": [
    {
     "name": "stdout",
     "output_type": "stream",
     "text": [
      "torch.Size([64, 1, 28, 28])\n",
      "torch.Size([64, 1, 784])\n"
     ]
    },
    {
     "data": {
      "image/png": "[encoded data removed]",
      "text/plain": [
       "<matplotlib.figure.Figure at 0x1db3feaa320>"
      ]
     },
     "metadata": {
      "image/png": {
       "height": 224,
       "width": 423
      }
     },
     "output_type": "display_data"
    }
   ],
   "source": [
    "# Grab some data \n",
    "dataiter = iter(trainloader)\n",
    "images, labels = dataiter.next()\n",
    "print(images.shape)\n",
    "# Resize images into a 1D vector, new shape is (batch size, color channels, image pixels) \n",
    "images.resize_(64, 1, 784)\n",
    "# or images.resize_(images.shape[0], 1, 784) to automatically get batch size\n",
    "print(images.shape)\n",
    "# Forward pass through the network\n",
    "img_idx = 0\n",
    "ps = model.forward(images[img_idx,:])\n",
    "\n",
    "img = images[img_idx]\n",
    "helper.view_classify(img.view(1, 28, 28), ps)"
   ]
  },
  {
   "cell_type": "code",
   "execution_count": 35,
   "metadata": {},
   "outputs": [
    {
     "data": {
      "text/plain": [
       "torch.Size([1, 784])"
      ]
     },
     "execution_count": 35,
     "metadata": {},
     "output_type": "execute_result"
    }
   ],
   "source": [
    "images[img_idx,:].shape"
   ]
  },
  {
   "cell_type": "markdown",
   "metadata": {},
   "source": [
    "As you can see above, our network has basically no idea what this digit is. It's because we haven't trained it yet, all the weights are random!\n",
    "\n",
    "### Using `nn.Sequential`\n",
    "\n",
    "PyTorch provides a convenient way to build networks like this where a tensor is passed sequentially through operations, `nn.Sequential` ([documentation](https://pytorch.org/docs/master/nn.html#torch.nn.Sequential)). Using this to build the equivalent network:"
   ]
  },
  {
   "cell_type": "code",
   "execution_count": 37,
   "metadata": {},
   "outputs": [
    {
     "name": "stdout",
     "output_type": "stream",
     "text": [
      "Sequential(\n",
      "  (0): Linear(in_features=784, out_features=128, bias=True)\n",
      "  (1): ReLU()\n",
      "  (2): Linear(in_features=128, out_features=64, bias=True)\n",
      "  (3): ReLU()\n",
      "  (4): Linear(in_features=64, out_features=10, bias=True)\n",
      "  (5): Softmax()\n",
      ")\n"
     ]
    },
    {
     "data": {
      "image/png": "[encoded data removed]",
      "text/plain": [
       "<matplotlib.figure.Figure at 0x1db3ec634a8>"
      ]
     },
     "metadata": {
      "image/png": {
       "height": 224,
       "width": 423
      }
     },
     "output_type": "display_data"
    }
   ],
   "source": [
    "# Hyperparameters for our network\n",
    "input_size = 784\n",
    "hidden_sizes = [128, 64]\n",
    "output_size = 10\n",
    "\n",
    "# Build a feed-forward network\n",
    "model = nn.Sequential(nn.Linear(input_size, hidden_sizes[0]),\n",
    "                      nn.ReLU(),\n",
    "                      nn.Linear(hidden_sizes[0], hidden_sizes[1]),\n",
    "                      nn.ReLU(),\n",
    "                      nn.Linear(hidden_sizes[1], output_size),\n",
    "                      nn.Softmax(dim=1))\n",
    "print(model)\n",
    "\n",
    "# Forward pass through the network and display output\n",
    "images, labels = next(iter(trainloader))\n",
    "images.resize_(images.shape[0], 1, 784)\n",
    "ps = model.forward(images[0,:])\n",
    "helper.view_classify(images[0].view(1, 28, 28), ps)"
   ]
  },
  {
   "cell_type": "markdown",
   "metadata": {},
   "source": [
    "The operations are availble by passing in the appropriate index. For example, if you want to get first Linear operation and look at the weights, you'd use `model[0]`."
   ]
  },
  {
   "cell_type": "code",
   "execution_count": 38,
   "metadata": {},
   "outputs": [
    {
     "name": "stdout",
     "output_type": "stream",
     "text": [
      "Linear(in_features=784, out_features=128, bias=True)\n"
     ]
    },
    {
     "data": {
      "text/plain": [
       "Parameter containing:\n",
       "tensor([[-0.0108, -0.0214,  0.0301,  ...,  0.0302,  0.0073, -0.0144],\n",
       "        [ 0.0146, -0.0226,  0.0175,  ..., -0.0051, -0.0326,  0.0299],\n",
       "        [-0.0223,  0.0147,  0.0314,  ..., -0.0256,  0.0038, -0.0300],\n",
       "        ...,\n",
       "        [-0.0343, -0.0223,  0.0225,  ...,  0.0281, -0.0350, -0.0115],\n",
       "        [-0.0279, -0.0164, -0.0003,  ...,  0.0093,  0.0177, -0.0269],\n",
       "        [-0.0289, -0.0016, -0.0130,  ..., -0.0065,  0.0121,  0.0230]],\n",
       "       requires_grad=True)"
      ]
     },
     "execution_count": 38,
     "metadata": {},
     "output_type": "execute_result"
    }
   ],
   "source": [
    "print(model[0])\n",
    "model[0].weight"
   ]
  },
  {
   "cell_type": "markdown",
   "metadata": {},
   "source": [
    "You can also pass in an `OrderedDict` to name the individual layers and operations, instead of using incremental integers. Note that dictionary keys must be unique, so _each operation must have a different name_."
   ]
  },
  {
   "cell_type": "code",
   "execution_count": 39,
   "metadata": {},
   "outputs": [
    {
     "data": {
      "text/plain": [
       "Sequential(\n",
       "  (fc1): Linear(in_features=784, out_features=128, bias=True)\n",
       "  (relu1): ReLU()\n",
       "  (fc2): Linear(in_features=128, out_features=64, bias=True)\n",
       "  (relu2): ReLU()\n",
       "  (output): Linear(in_features=64, out_features=10, bias=True)\n",
       "  (softmax): Softmax()\n",
       ")"
      ]
     },
     "execution_count": 39,
     "metadata": {},
     "output_type": "execute_result"
    }
   ],
   "source": [
    "from collections import OrderedDict\n",
    "model = nn.Sequential(OrderedDict([\n",
    "                      ('fc1', nn.Linear(input_size, hidden_sizes[0])),\n",
    "                      ('relu1', nn.ReLU()),\n",
    "                      ('fc2', nn.Linear(hidden_sizes[0], hidden_sizes[1])),\n",
    "                      ('relu2', nn.ReLU()),\n",
    "                      ('output', nn.Linear(hidden_sizes[1], output_size)),\n",
    "                      ('softmax', nn.Softmax(dim=1))]))\n",
    "model"
   ]
  },
  {
   "cell_type": "markdown",
   "metadata": {},
   "source": [
    "Now you can access layers either by integer or the name"
   ]
  },
  {
   "cell_type": "code",
   "execution_count": 40,
   "metadata": {},
   "outputs": [
    {
     "name": "stdout",
     "output_type": "stream",
     "text": [
      "Linear(in_features=784, out_features=128, bias=True)\n",
      "Linear(in_features=784, out_features=128, bias=True)\n"
     ]
    }
   ],
   "source": [
    "print(model[0])\n",
    "print(model.fc1)"
   ]
  },
  {
   "cell_type": "markdown",
   "metadata": {},
   "source": [
    "In the next notebook, we'll see how we can train a neural network to accuractly predict the numbers appearing in the MNIST images."
   ]
  }
 ],
 "metadata": {
  "kernelspec": {
   "display_name": "Python 3",
   "language": "python",
   "name": "python3"
  },
  "language_info": {
   "codemirror_mode": {
    "name": "ipython",
    "version": 3
   },
   "file_extension": ".py",
   "mimetype": "text/x-python",
   "name": "python",
   "nbconvert_exporter": "python",
   "pygments_lexer": "ipython3",
   "version": "3.6.4"
  }
 },
 "nbformat": 4,
 "nbformat_minor": 2
}
